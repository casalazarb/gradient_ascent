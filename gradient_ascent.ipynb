{
  "nbformat": 4,
  "nbformat_minor": 0,
  "metadata": {
    "colab": {
      "name": "gradient_ascent.ipynb",
      "provenance": [],
      "collapsed_sections": []
    },
    "kernelspec": {
      "name": "python3",
      "display_name": "Python 3"
    },
    "language_info": {
      "name": "python"
    }
  },
  "cells": [
    {
      "cell_type": "code",
      "metadata": {
        "id": "MI-z1S9miYEs"
      },
      "source": [
        "import numpy as np\n",
        "import matplotlib.pyplot as plt"
      ],
      "execution_count": 1,
      "outputs": []
    },
    {
      "cell_type": "code",
      "metadata": {
        "id": "NSniKLygAq3y"
      },
      "source": [
        "#quadratic function\n",
        "def quadratic(x):\n",
        "  \"\"\"This function recieves a number and raise it to square\"\"\"\n",
        "  return x**2"
      ],
      "execution_count": 2,
      "outputs": []
    },
    {
      "cell_type": "code",
      "metadata": {
        "colab": {
          "base_uri": "https://localhost:8080/"
        },
        "id": "yj4eYbs1QwOP",
        "outputId": "935bf2a8-e5a3-4016-fc85-eb9ba56670c8"
      },
      "source": [
        "three_squared = quadratic(3)\n",
        "print(three_squared)\n",
        "print(quadratic(2))"
      ],
      "execution_count": 3,
      "outputs": [
        {
          "output_type": "stream",
          "name": "stdout",
          "text": [
            "9\n",
            "4\n"
          ]
        }
      ]
    },
    {
      "cell_type": "code",
      "metadata": {
        "colab": {
          "base_uri": "https://localhost:8080/"
        },
        "id": "jQfnrQMPQ3nn",
        "outputId": "77bc1a8c-af14-432a-eae7-8be226b8be8f"
      },
      "source": [
        "#what is the slope for two points close to three\n",
        "x_1 = 3\n",
        "#delta_x = 0.000000001\n",
        "x_2 = 3.000000001\n",
        "y_1 = quadratic(x_1)\n",
        "y_2 = quadratic(x_2)\n",
        "#with this little delta_x is enough to obtain a close approximation to the derivative of the fuction x^2 in the vicinity of 3\n",
        "slope = (y_2-y_1)/(x_2-x_1)\n",
        "print(slope)"
      ],
      "execution_count": 4,
      "outputs": [
        {
          "output_type": "stream",
          "name": "stdout",
          "text": [
            "6.0\n"
          ]
        }
      ]
    },
    {
      "cell_type": "code",
      "metadata": {
        "id": "-OSXxS4pU53C"
      },
      "source": [
        "#Optimization algorithm gradient ascent\n",
        "#This function calculates the revenue of a country in function of its tax rate:\n",
        "#f(t)=-10*(t-0.01)*(t-0.30)\n",
        "#or\n",
        "#f(t)=-10*t^2+3.1*t-0.03\n",
        "#f(t) the revenue as a % of the GDP."
      ],
      "execution_count": 6,
      "outputs": []
    },
    {
      "cell_type": "code",
      "metadata": {
        "id": "tMx7Cq5lYtO9"
      },
      "source": [
        "#Define revenue function\n",
        "def revenue(rate):\n",
        "  \"\"\"This function receives a tax rate as an argument and returns revenue as % of GDP\"\"\"\n",
        "  return -10*rate**2+3.1*rate-0.03"
      ],
      "execution_count": 7,
      "outputs": []
    },
    {
      "cell_type": "code",
      "metadata": {
        "colab": {
          "base_uri": "https://localhost:8080/"
        },
        "id": "t9AromWjhhAu",
        "outputId": "8a8891ab-a0d3-41cc-ce0d-7e4d00659a70"
      },
      "source": [
        "print(revenue(0.09))"
      ],
      "execution_count": 8,
      "outputs": [
        {
          "output_type": "stream",
          "name": "stdout",
          "text": [
            "0.16799999999999998\n"
          ]
        }
      ]
    },
    {
      "cell_type": "code",
      "metadata": {
        "colab": {
          "base_uri": "https://localhost:8080/",
          "height": 295
        },
        "id": "fj3lCVs5jNqO",
        "outputId": "a079ed00-cf39-4631-8327-3e65e67f73cb"
      },
      "source": [
        "#Let's graph the function\n",
        "xs = []\n",
        "for i in range(50):\n",
        "  xs.append(i/100)\n",
        "\n",
        "ys = []\n",
        "for element in xs:\n",
        "  ys.append(revenue(element))\n",
        "\n",
        "plt.plot(xs,ys, color = \"red\")\n",
        "test_rate = 0.05\n",
        "plt.plot(test_rate, revenue(test_rate), marker = 'v',color = \"black\")\n",
        "plt.title('Tax rate vs. Revenue')\n",
        "plt.xlabel('Tax rate')\n",
        "plt.ylabel('Revenue')\n",
        "plt.show()"
      ],
      "execution_count": 11,
      "outputs": [
        {
          "output_type": "display_data",
          "data": {
            "text/plain": [
              "<Figure size 432x288 with 1 Axes>"
            ],
            "image/png": "[encoded data removed]"
          },
          "metadata": {
            "needs_background": "light"
          }
        }
      ]
    },
    {
      "cell_type": "code",
      "metadata": {
        "colab": {
          "base_uri": "https://localhost:8080/"
        },
        "id": "cV3975WlkyjG",
        "outputId": "80d1e5b7-c36b-4b80-85fd-8d0adf24e154"
      },
      "source": [
        "#derivative function of revenue\n",
        "def derivative_revenue(rate):\n",
        "  return -20*rate+3.1\n",
        "\n",
        "print(derivative_revenue(0.2))"
      ],
      "execution_count": 14,
      "outputs": [
        {
          "output_type": "stream",
          "name": "stdout",
          "text": [
            "-0.8999999999999999\n"
          ]
        }
      ]
    },
    {
      "cell_type": "code",
      "metadata": {
        "colab": {
          "base_uri": "https://localhost:8080/",
          "height": 330
        },
        "id": "ZvobP0OfvVZp",
        "outputId": "24884386-cce5-47a8-ac5f-68de91546946"
      },
      "source": [
        "#gradient ascent algorithm\n",
        "step_size = 0.0001\n",
        "threshold = 0.000000001\n",
        "iter_max = 10000\n",
        "\n",
        "go_on = True\n",
        "iterations = 0\n",
        "test_rate = 0.01\n",
        "\n",
        "while(go_on):\n",
        "  delta_r = step_size * derivative_revenue(test_rate)\n",
        "  test_rate += delta_r\n",
        "\n",
        "  if abs(delta_r) < threshold:\n",
        "    print(\"minimum threshold reached\")\n",
        "    go_on = False\n",
        "\n",
        "  if iterations > iter_max:\n",
        "    print(\"maximum number of iterations reached\")\n",
        "    go_on = False\n",
        "\n",
        "  iterations += 1\n",
        "\n",
        "#arg_max that delivers the algorithm\n",
        "print(test_rate)\n",
        "\n",
        "plt.plot(xs,ys, color = \"red\")\n",
        "plt.plot(test_rate, revenue(test_rate), marker = 'v', color = \"black\")\n",
        "plt.title('Tax rate vs. Revenue')\n",
        "plt.xlabel('Tax rate')\n",
        "plt.ylabel('Revenue')\n",
        "plt.show()"
      ],
      "execution_count": 17,
      "outputs": [
        {
          "output_type": "stream",
          "name": "stdout",
          "text": [
            "minimum threshold reached\n",
            "0.15499950147211888\n"
          ]
        },
        {
          "output_type": "display_data",
          "data": {
            "text/plain": [
              "<Figure size 432x288 with 1 Axes>"
            ],
            "image/png": "[encoded data removed]"
          },
          "metadata": {
            "needs_background": "light"
          }
        }
      ]
    }
  ]
}